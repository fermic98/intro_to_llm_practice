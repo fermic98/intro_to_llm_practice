{
 "cells": [
  {
   "cell_type": "markdown",
   "metadata": {},
   "source": [
    "# Information extraction with Anthropic Claude"
   ]
  },
  {
   "cell_type": "markdown",
   "metadata": {},
   "source": [
    "## Overview\n",
    "\n",
    "In this example, you are going to ingest text representing description of New York City (using a csv obtained from the train split of the [`rajpurkar/squad`](https://huggingface.co/datasets/rajpurkar/squad) dataset of HuggingFace) directly into Amazon Bedrock API (using Anthropic Claude model) and give it an instruction to extract information from it.\n",
    "\n",
    "\n",
    "In this notebook:\n",
    "\n",
    "1. Ingest the csv (containing text, along with questions and ground truth data extracted from it)\n",
    "1. Use this text as input data for the model\n",
    "1. The foundation model processes the input data\n",
    "1. Model returns a response with the data extracted from the ingested text"
   ]
  },
  {
   "cell_type": "markdown",
   "metadata": {},
   "source": [
    "## Setup"
   ]
  },
  {
   "cell_type": "code",
   "execution_count": null,
   "metadata": {},
   "outputs": [],
   "source": [
    "%pip install --no-build-isolation --force-reinstall \\\n",
    "    \"boto3>=1.28.57\" \\\n",
    "    \"awscli>=1.29.57\" \\\n",
    "    \"botocore>=1.31.57\" \\\n",
    "    \"anthropic\""
   ]
  },
  {
   "cell_type": "code",
   "execution_count": null,
   "metadata": {},
   "outputs": [],
   "source": [
    "# restart kernel\n",
    "from IPython.core.display import HTML\n",
    "HTML(\"<script>Jupyter.notebook.kernel.restart()</script>\")"
   ]
  },
  {
   "cell_type": "code",
   "execution_count": null,
   "metadata": {},
   "outputs": [],
   "source": [
    "import json\n",
    "import os\n",
    "import sys\n",
    "\n",
    "import boto3\n",
    "import botocore\n",
    "\n",
    "\n",
    "module_path = \"../..\"\n",
    "sys.path.append(os.path.abspath(module_path))\n",
    "from utils import bedrock, print_ww\n",
    "\n",
    "# ---- ⚠️ Un-comment and edit the below lines as needed for your AWS setup ⚠️ ----\n",
    "\n",
    "# os.environ[\"AWS_DEFAULT_REGION\"] = \"<REGION_NAME>\"  # E.g. \"us-east-1\"\n",
    "# os.environ[\"AWS_PROFILE\"] = \"<YOUR_PROFILE>\"\n",
    "# os.environ[\"BEDROCK_ASSUME_ROLE\"] = \"<YOUR_ROLE_ARN>\"  # E.g. \"arn:aws:...\"\n",
    "\n",
    "\n",
    "boto3_bedrock = bedrock.get_bedrock_client(\n",
    "    assumed_role=os.environ.get(\"BEDROCK_ASSUME_ROLE\", None),\n",
    "    region=os.environ.get(\"AWS_DEFAULT_REGION\", None)\n",
    ")"
   ]
  },
  {
   "cell_type": "markdown",
   "metadata": {},
   "source": [
    "## New York City small dataset\n",
    "It is a dataset of informations about NYC, with associated questions and answers: this allows us to get feedback on the correctness of our extractions.\\\n",
    "We ingest the dataset."
   ]
  },
  {
   "cell_type": "code",
   "execution_count": null,
   "metadata": {},
   "outputs": [],
   "source": [
    "import pandas as pd\n",
    "df=pd.read_csv(\"../data/nyc.csv\")"
   ]
  },
  {
   "cell_type": "markdown",
   "metadata": {},
   "source": [
    "Let's visualize some data from the dataset"
   ]
  },
  {
   "cell_type": "code",
   "execution_count": null,
   "metadata": {},
   "outputs": [],
   "source": [
    "df.head()"
   ]
  },
  {
   "cell_type": "markdown",
   "metadata": {},
   "source": [
    "### We can leverage the structure of the dataset to test Claude's ability in information extraction\n",
    "\n",
    "Let's select a subset of the DataFrame rows and for each of them let's use the question field as a prompt. Then, we can compare the answer given by the model with the one available on the DF."
   ]
  },
  {
   "cell_type": "code",
   "execution_count": null,
   "metadata": {},
   "outputs": [],
   "source": [
    "df_short=df[:10]"
   ]
  },
  {
   "cell_type": "markdown",
   "metadata": {},
   "source": [
    "To do so, we will have to iterate over the rows and perform a call to the model in each iteration. It's useful to build a function that accepts the question and the text as inputs, performs the request to the model and returns the answer."
   ]
  },
  {
   "cell_type": "code",
   "execution_count": null,
   "metadata": {},
   "outputs": [],
   "source": [
    "def request_to_model(context,question):\n",
    "    prompt_data=f\"\\n\\nHuman:Answer the following question using the data read in the text.\\nQuestion: {question}\\nText:{context}\\n\\nAssistant:\"\n",
    "    try:\n",
    "\n",
    "        body = json.dumps({\"prompt\": prompt_data,\"max_tokens_to_sample\":1024})\n",
    "        modelId = \"anthropic.claude-v2\"\n",
    "        accept = \"application/json\"\n",
    "        contentType = \"application/json\"\n",
    "\n",
    "        response = boto3_bedrock.invoke_model(\n",
    "            body=body, modelId=modelId, accept=accept, contentType=contentType\n",
    "        )\n",
    "        response_body = json.loads(response.get(\"body\").read())\n",
    "        return response_body.get(\"completion\")\n",
    "\n",
    "    except botocore.exceptions.ClientError as error:\n",
    "\n",
    "        if error.response['Error']['Code'] == 'AccessDeniedException':\n",
    "            print(f\"\\x1b[41m{error.response['Error']['Message']}\\\n",
    "                    \\nTo troubeshoot this issue please refer to the following resources.\\\n",
    "                    \\nhttps://docs.aws.amazon.com/IAM/latest/UserGuide/troubleshoot_access-denied.html\\\n",
    "                    \\nhttps://docs.aws.amazon.com/bedrock/latest/userguide/security-iam.html\\x1b[0m\\n\")\n",
    "\n",
    "        else:\n",
    "            raise error\n"
   ]
  },
  {
   "cell_type": "markdown",
   "metadata": {},
   "source": [
    "Let's execute the following loop to attach the model answers to the shortened DataFrame, in order to confront them easily with the ground truth"
   ]
  },
  {
   "cell_type": "code",
   "execution_count": null,
   "metadata": {},
   "outputs": [],
   "source": [
    "for index, row in df_short.iterrows():\n",
    "    df_short.loc[index,\"llm_answer\"]=request_to_model(row[\"context\"],row[\"question\"])"
   ]
  },
  {
   "cell_type": "markdown",
   "metadata": {},
   "source": [
    "Now, let's look at the results"
   ]
  },
  {
   "cell_type": "code",
   "execution_count": null,
   "metadata": {},
   "outputs": [],
   "source": [
    "display(df_short)"
   ]
  },
  {
   "cell_type": "code",
   "execution_count": null,
   "metadata": {},
   "outputs": [],
   "source": [
    "for i,row in df_short.iterrows():\n",
    "    print(f\"Ground truth: {row['answers']}, LLM output: {row['llm_answer']}\")\n",
    "    print(\"\\n\")"
   ]
  },
  {
   "cell_type": "markdown",
   "metadata": {},
   "source": [
    "We notice that the LLM gives out pretty long answers, what if we would want the most concise answer possible (similar to the ground truth ones)? Let's try modifying the prompt"
   ]
  },
  {
   "cell_type": "code",
   "execution_count": null,
   "metadata": {},
   "outputs": [],
   "source": [
    "def request_to_model_concise(context,question):\n",
    "    prompt_data=f\"\\n\\nHuman:Answer the following question using the data read in the text.\\nQuestion: {question}\\nText:{context}\\nJust provide the information, without mentioning what you read in the text.\\n\\nAssistant:\"\n",
    "    try:\n",
    "\n",
    "        body = json.dumps({\"prompt\": prompt_data,\"max_tokens_to_sample\":1024})\n",
    "        modelId = \"anthropic.claude-v2\"\n",
    "        accept = \"application/json\"\n",
    "        contentType = \"application/json\"\n",
    "\n",
    "        response = boto3_bedrock.invoke_model(\n",
    "            body=body, modelId=modelId, accept=accept, contentType=contentType\n",
    "        )\n",
    "        response_body = json.loads(response.get(\"body\").read())\n",
    "        return response_body.get(\"completion\")\n",
    "\n",
    "    except botocore.exceptions.ClientError as error:\n",
    "\n",
    "        if error.response['Error']['Code'] == 'AccessDeniedException':\n",
    "            print(f\"\\x1b[41m{error.response['Error']['Message']}\\\n",
    "                    \\nTo troubeshoot this issue please refer to the following resources.\\\n",
    "                    \\nhttps://docs.aws.amazon.com/IAM/latest/UserGuide/troubleshoot_access-denied.html\\\n",
    "                    \\nhttps://docs.aws.amazon.com/bedrock/latest/userguide/security-iam.html\\x1b[0m\\n\")\n",
    "\n",
    "        else:\n",
    "            raise error\n"
   ]
  },
  {
   "cell_type": "markdown",
   "metadata": {},
   "source": [
    "Let's test again, executing the same loop to get the results"
   ]
  },
  {
   "cell_type": "code",
   "execution_count": null,
   "metadata": {},
   "outputs": [],
   "source": [
    "for index, row in df_short.iterrows():\n",
    "    df_short.loc[index,\"llm_answer\"]=request_to_model_concise(row[\"context\"],row[\"question\"])"
   ]
  },
  {
   "cell_type": "code",
   "execution_count": null,
   "metadata": {},
   "outputs": [],
   "source": [
    "display(df_short)"
   ]
  },
  {
   "cell_type": "code",
   "execution_count": null,
   "metadata": {},
   "outputs": [],
   "source": [
    "for i,row in df_short.iterrows():\n",
    "    print(f\"Ground truth: {row['answers']}, LLM output: {row['llm_answer']}\")\n",
    "    print(\"\\n\")"
   ]
  },
  {
   "cell_type": "markdown",
   "metadata": {},
   "source": [
    "As you can see, by slightly changing the prompt we obtained results that are similar to those of the ground truth!"
   ]
  },
  {
   "cell_type": "markdown",
   "metadata": {},
   "source": [
    "### Now, you try experimenting with Information Extraction! You have many other rows in the NYC csv to test and in the 'data' folder there is also another small dataset with text talking about Buddhism. \n",
    "### Try experimenting with different prompts, you could get even better output formats using the data as examples for Few-Shot or CoT prompting! Feel free to use the code we just saw as a base."
   ]
  },
  {
   "cell_type": "markdown",
   "metadata": {},
   "source": [
    "#### Exercise - other csv"
   ]
  },
  {
   "cell_type": "code",
   "execution_count": 4,
   "metadata": {},
   "outputs": [
    {
     "data": {
      "text/html": [
       "<div>\n",
       "<style scoped>\n",
       "    .dataframe tbody tr th:only-of-type {\n",
       "        vertical-align: middle;\n",
       "    }\n",
       "\n",
       "    .dataframe tbody tr th {\n",
       "        vertical-align: top;\n",
       "    }\n",
       "\n",
       "    .dataframe thead th {\n",
       "        text-align: right;\n",
       "    }\n",
       "</style>\n",
       "<table border=\"1\" class=\"dataframe\">\n",
       "  <thead>\n",
       "    <tr style=\"text-align: right;\">\n",
       "      <th></th>\n",
       "      <th>context</th>\n",
       "      <th>question</th>\n",
       "      <th>answers</th>\n",
       "    </tr>\n",
       "  </thead>\n",
       "  <tbody>\n",
       "    <tr>\n",
       "      <th>0</th>\n",
       "      <td>Buddhism /ˈbudɪzəm/ is a nontheistic religion[...</td>\n",
       "      <td>What type of religion is Buddhism?</td>\n",
       "      <td>nontheistic</td>\n",
       "    </tr>\n",
       "    <tr>\n",
       "      <th>1</th>\n",
       "      <td>Two major extant branches of Buddhism are gene...</td>\n",
       "      <td>What are the two major branches of Buddhism?</td>\n",
       "      <td>Theravada (\"The School of the Elders\") and Mah...</td>\n",
       "    </tr>\n",
       "    <tr>\n",
       "      <th>2</th>\n",
       "      <td>In Theravada Buddhism, the ultimate goal is th...</td>\n",
       "      <td>What is the goal of Theravada Buddhism?</td>\n",
       "      <td>the attainment of the sublime state of Nirvana</td>\n",
       "    </tr>\n",
       "    <tr>\n",
       "      <th>3</th>\n",
       "      <td>Buddhist schools vary on the exact nature of t...</td>\n",
       "      <td>What are the Three Jewels of the Buddhist trad...</td>\n",
       "      <td>the Buddha, the Dharma (the teachings), and th...</td>\n",
       "    </tr>\n",
       "    <tr>\n",
       "      <th>4</th>\n",
       "      <td>This narrative draws on the Nidānakathā of the...</td>\n",
       "      <td>The Nidānakathā of the Jataka tales of the The...</td>\n",
       "      <td>Nidānakathā of the Jataka tales of the Theravada</td>\n",
       "    </tr>\n",
       "    <tr>\n",
       "      <th>5</th>\n",
       "      <td>According to author Michael Carrithers, while ...</td>\n",
       "      <td>Who said \"the outline of the life must be true...</td>\n",
       "      <td>Michael Carrithers</td>\n",
       "    </tr>\n",
       "    <tr>\n",
       "      <th>6</th>\n",
       "      <td>The evidence of the early texts suggests that ...</td>\n",
       "      <td>According to early texts, when was Siddhārtha ...</td>\n",
       "      <td>fifth century BCE</td>\n",
       "    </tr>\n",
       "    <tr>\n",
       "      <th>7</th>\n",
       "      <td>According to this narrative, shortly after the...</td>\n",
       "      <td>What was the name of the astrologer who visite...</td>\n",
       "      <td>Asita</td>\n",
       "    </tr>\n",
       "    <tr>\n",
       "      <th>8</th>\n",
       "      <td>Śuddhodana was determined to see his son becom...</td>\n",
       "      <td>What did Śuddhodana do to ensure that his son ...</td>\n",
       "      <td>prevented him from leaving the palace grounds</td>\n",
       "    </tr>\n",
       "    <tr>\n",
       "      <th>9</th>\n",
       "      <td>Gautama first went to study with famous religi...</td>\n",
       "      <td>What was the first thing Gautama did on his sp...</td>\n",
       "      <td>went to study with famous religious teachers o...</td>\n",
       "    </tr>\n",
       "  </tbody>\n",
       "</table>\n",
       "</div>"
      ],
      "text/plain": [
       "                                             context  \\\n",
       "0  Buddhism /ˈbudɪzəm/ is a nontheistic religion[...   \n",
       "1  Two major extant branches of Buddhism are gene...   \n",
       "2  In Theravada Buddhism, the ultimate goal is th...   \n",
       "3  Buddhist schools vary on the exact nature of t...   \n",
       "4  This narrative draws on the Nidānakathā of the...   \n",
       "5  According to author Michael Carrithers, while ...   \n",
       "6  The evidence of the early texts suggests that ...   \n",
       "7  According to this narrative, shortly after the...   \n",
       "8  Śuddhodana was determined to see his son becom...   \n",
       "9  Gautama first went to study with famous religi...   \n",
       "\n",
       "                                            question  \\\n",
       "0                 What type of religion is Buddhism?   \n",
       "1       What are the two major branches of Buddhism?   \n",
       "2            What is the goal of Theravada Buddhism?   \n",
       "3  What are the Three Jewels of the Buddhist trad...   \n",
       "4  The Nidānakathā of the Jataka tales of the The...   \n",
       "5  Who said \"the outline of the life must be true...   \n",
       "6  According to early texts, when was Siddhārtha ...   \n",
       "7  What was the name of the astrologer who visite...   \n",
       "8  What did Śuddhodana do to ensure that his son ...   \n",
       "9  What was the first thing Gautama did on his sp...   \n",
       "\n",
       "                                             answers  \n",
       "0                                        nontheistic  \n",
       "1  Theravada (\"The School of the Elders\") and Mah...  \n",
       "2     the attainment of the sublime state of Nirvana  \n",
       "3  the Buddha, the Dharma (the teachings), and th...  \n",
       "4   Nidānakathā of the Jataka tales of the Theravada  \n",
       "5                                 Michael Carrithers  \n",
       "6                                  fifth century BCE  \n",
       "7                                              Asita  \n",
       "8      prevented him from leaving the palace grounds  \n",
       "9  went to study with famous religious teachers o...  "
      ]
     },
     "metadata": {},
     "output_type": "display_data"
    }
   ],
   "source": [
    "import pandas as pd\n",
    "df_2=pd.read_csv(\"../data/buddhism.csv\")\n",
    "df_2_short=df_2[:10]\n",
    "display(df_2_short)"
   ]
  },
  {
   "cell_type": "code",
   "execution_count": null,
   "metadata": {},
   "outputs": [],
   "source": []
  }
 ],
 "metadata": {
  "kernelspec": {
   "display_name": "Python 3",
   "language": "python",
   "name": "python3"
  },
  "language_info": {
   "codemirror_mode": {
    "name": "ipython",
    "version": 3
   },
   "file_extension": ".py",
   "mimetype": "text/x-python",
   "name": "python",
   "nbconvert_exporter": "python",
   "pygments_lexer": "ipython3",
   "version": "3.10.0"
  }
 },
 "nbformat": 4,
 "nbformat_minor": 2
}
